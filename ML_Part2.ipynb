{
  "nbformat": 4,
  "nbformat_minor": 0,
  "metadata": {
    "colab": {
      "provenance": []
    },
    "kernelspec": {
      "name": "python3",
      "display_name": "Python 3"
    },
    "language_info": {
      "name": "python"
    }
  },
  "cells": [
    {
      "cell_type": "markdown",
      "source": [
        "# Importing Packages and Reading Data"
      ],
      "metadata": {
        "id": "Y9mOSGzjL8b5"
      }
    },
    {
      "cell_type": "code",
      "execution_count": 50,
      "metadata": {
        "colab": {
          "base_uri": "https://localhost:8080/",
          "height": 0
        },
        "id": "gh5W6qJZvENf",
        "outputId": "7d589d44-8a1e-44a1-971a-76fb0fb5b59e"
      },
      "outputs": [
        {
          "output_type": "stream",
          "name": "stdout",
          "text": [
            "Shape Before:  (20640, 14)\n"
          ]
        }
      ],
      "source": [
        "import pandas as pd\n",
        "import numpy as np\n",
        "from sklearn.model_selection import train_test_split\n",
        "from sklearn.linear_model import LinearRegression, Lasso, Ridge\n",
        "from sklearn.metrics import mean_squared_error, mean_absolute_error\n",
        "\n",
        "# Load the California Housing Dataset\n",
        "dataset = pd.read_csv('California_Houses.csv',header = 0)\n",
        "\n",
        "print(\"Shape Before: \", dataset.shape)\n",
        "# print(dataset.head())\n",
        "\n"
      ]
    },
    {
      "cell_type": "markdown",
      "source": [
        "#Splitting the Data\n",
        "## 70% Training\n",
        "## 15% Validation\n",
        "## 15% Test"
      ],
      "metadata": {
        "id": "_BXYpsjEMES5"
      }
    },
    {
      "cell_type": "code",
      "source": [
        "# Splitting the Data\n",
        "x_train , x_val_test , y_train ,y_val_test = train_test_split(dataset.drop(dataset.columns[-1] , axis = 1) ,\n",
        "                                                              dataset[dataset.columns[-1]],\n",
        "                                                              test_size = 0.3 ,\n",
        "                                                              random_state = 42)\n",
        "\n",
        "x_val , x_test , y_val , y_test = train_test_split(x_val_test ,\n",
        "                                                   y_val_test ,\n",
        "                                                   test_size = 0.5 ,\n",
        "                                                   random_state = 42)"
      ],
      "metadata": {
        "id": "AErVMJxGvyML"
      },
      "execution_count": 51,
      "outputs": []
    },
    {
      "cell_type": "markdown",
      "source": [
        "# Linear Regression\n",
        "### Including Error Calculations:\n",
        "*   Mean Squared Error\n",
        "*   Mean Absolute Error\n",
        "\n"
      ],
      "metadata": {
        "id": "QmpMDmi1MQFU"
      }
    },
    {
      "cell_type": "code",
      "source": [
        "# Applying Linear Regression\n",
        "\n",
        "lr_model = LinearRegression()\n",
        "lr_model.fit(x_train , y_train)\n",
        "\n",
        "y_prediction_lr_train = lr_model.predict(x_train)\n",
        "y_prediction_lr_val = lr_model.predict(x_val)\n",
        "y_prediction_lr_test = lr_model.predict(x_test)\n",
        "\n",
        "# Mean Squared Error for Linear Regression\n",
        "mean_sqr_error_lr_train = mean_squared_error(y_train , y_prediction_lr_train)\n",
        "mean_sqr_error_lr_val = mean_squared_error(y_val , y_prediction_lr_val)\n",
        "mean_sqr_error_lr_test = mean_squared_error(y_test , y_prediction_lr_test)\n",
        "\n",
        "\n",
        "# Mean Absolute Error for Linear Regression\n",
        "mean_abs_error_lr_train = mean_absolute_error(y_train, y_prediction_lr_train)\n",
        "mean_abs_error_lr_val = mean_absolute_error(y_val, y_prediction_lr_val)\n",
        "mean_abs_error_lr_test = mean_absolute_error(y_test, y_prediction_lr_test)\n",
        "\n",
        "\n",
        "print(\"\\nMean Squared Error for Linear Regression:\")\n",
        "print(\"Training Set:\", mean_sqr_error_lr_train)\n",
        "print(\"Validation Set:\", mean_sqr_error_lr_val)\n",
        "print(\"Test Set:\", mean_sqr_error_lr_test)\n",
        "print(\"=======================\\n\\n\")\n",
        "\n",
        "print(\"\\nMean Absolute Error for Linear Regression:\")\n",
        "print(\"Training Set:\", mean_abs_error_lr_train)\n",
        "print(\"Validation Set:\", mean_abs_error_lr_val)\n",
        "print(\"Test Set:\", mean_abs_error_lr_test)\n",
        "print(\"=======================\\n\\n\")"
      ],
      "metadata": {
        "colab": {
          "base_uri": "https://localhost:8080/",
          "height": 0
        },
        "id": "KP_3v3PvvnV-",
        "outputId": "72e043be-7fcd-456c-d1e0-9865648c778d"
      },
      "execution_count": 56,
      "outputs": [
        {
          "output_type": "stream",
          "name": "stdout",
          "text": [
            "\n",
            "Mean Squared Error for Linear Regression:\n",
            "Training Set: 379656882.7479843\n",
            "Validation Set: 352673946.6438648\n",
            "Test Set: 387541382.9217834\n",
            "=======================\n",
            "\n",
            "\n",
            "\n",
            "Mean Absolute Error for Linear Regression:\n",
            "Training Set: 12825.486547272096\n",
            "Validation Set: 12390.251703410417\n",
            "Test Set: 12994.483908563527\n",
            "=======================\n",
            "\n",
            "\n"
          ]
        }
      ]
    },
    {
      "cell_type": "markdown",
      "source": [
        "#Lasso Regression\n",
        "###Including Error Calculations:\n",
        "\n",
        "*   Mean Squared Error\n",
        "*   Mean Absolute Error"
      ],
      "metadata": {
        "id": "gS8LZmDPNCV3"
      }
    },
    {
      "cell_type": "code",
      "source": [
        "# Applying Lasso Regression\n",
        "lasso_model = Lasso(alpha = 1.0,max_iter = 5000)\n",
        "lasso_model.fit(x_train , y_train)\n",
        "\n",
        "y_prediction_lasso_train = lasso_model.predict(x_train)\n",
        "y_prediction_lasso_val = lasso_model.predict(x_val)\n",
        "y_prediction_lasso_test = lasso_model.predict(x_test)\n",
        "\n",
        "# Mean Squared Error for Lasso Regression\n",
        "mean_sqr_error_lasso_train = mean_squared_error(y_train, y_prediction_lasso_train)\n",
        "mean_sqr_error_lasso_val = mean_squared_error(y_val, y_prediction_lasso_val)\n",
        "mean_sqr_error_lasso_test = mean_squared_error(y_test, y_prediction_lasso_test)\n",
        "\n",
        "print(\"\\nMean Squared Error for Lasso Regression:\")\n",
        "print(\"Training Set:\", mean_sqr_error_lasso_train)\n",
        "print(\"Validation Set:\", mean_sqr_error_lasso_val)\n",
        "print(\"Test Set:\", mean_sqr_error_lasso_test)\n",
        "print(\"=======================\\n\\n\")\n",
        "\n",
        "# Mean Absolute Error for Lasso Regression\n",
        "mean_abs_error_lasso_train = mean_absolute_error(y_train, y_prediction_lasso_train)\n",
        "mean_abs_error_lasso_val = mean_absolute_error(y_val, y_prediction_lasso_val)\n",
        "mean_abs_error_lasso_test = mean_absolute_error(y_test, y_prediction_lasso_test)\n",
        "\n",
        "print(\"\\nMean Absolute Error for Lasso Regression:\")\n",
        "print(\"Training Set:\", mean_abs_error_lasso_train)\n",
        "print(\"Validation Set:\", mean_abs_error_lasso_val)\n",
        "print(\"Test Set:\", mean_abs_error_lasso_test)\n",
        "print(\"=======================\\n\\n\")"
      ],
      "metadata": {
        "colab": {
          "base_uri": "https://localhost:8080/"
        },
        "id": "hhxwpZ48yo7D",
        "outputId": "c2b8cca2-9bf2-4a10-968d-f41202482bcf"
      },
      "execution_count": 57,
      "outputs": [
        {
          "output_type": "stream",
          "name": "stdout",
          "text": [
            "\n",
            "Mean Squared Error for Lasso Regression:\n",
            "Training Set: 379656938.0275563\n",
            "Validation Set: 352681626.8456631\n",
            "Test Set: 387539704.7517139\n",
            "=======================\n",
            "\n",
            "\n",
            "\n",
            "Mean Absolute Error for Lasso Regression:\n",
            "Training Set: 12825.68321373911\n",
            "Validation Set: 12390.549272537603\n",
            "Test Set: 12994.516640171803\n",
            "=======================\n",
            "\n",
            "\n"
          ]
        }
      ]
    },
    {
      "cell_type": "markdown",
      "source": [
        "#Ridge Regression\n",
        "###Including Error Calculations:\n",
        "*   Mean Squared Error\n",
        "*   Mean Absolute Error"
      ],
      "metadata": {
        "id": "Hdj_yZV0NUqg"
      }
    },
    {
      "cell_type": "code",
      "source": [
        "# Applying Ridge Regression\n",
        "ridge_model = Ridge(alpha = 1.0)\n",
        "ridge_model.fit(x_train , y_train)\n",
        "\n",
        "y_prediction_ridge_train = ridge_model.predict(x_train)\n",
        "y_prediction_ridge_val = ridge_model.predict(x_val)\n",
        "y_prediction_ridge_test = ridge_model.predict(x_test)\n",
        "\n",
        "# Mean Squared Error for Ridge Regression\n",
        "mean_sqr_error_ridge_train = mean_squared_error(y_train, y_prediction_ridge_train)\n",
        "mean_sqr_error_ridge_val = mean_squared_error(y_val, y_prediction_ridge_val)\n",
        "mean_sqr_error_ridge_test = mean_squared_error(y_test, y_prediction_ridge_test)\n",
        "\n",
        "# Mean Absolute Error for Ridge Regression\n",
        "mean_abs_error_ridge_train = mean_absolute_error(y_train,y_prediction_ridge_train)\n",
        "mean_abs_error_ridge_val = mean_absolute_error(y_val,y_prediction_ridge_val)\n",
        "mean_abs_error_ridge_test = mean_absolute_error(y_test,y_prediction_ridge_test)\n",
        "\n",
        "print(\"Mean Squared Error for Ridge Regression:\")\n",
        "print(\"Training Set:\", mean_sqr_error_ridge_train)\n",
        "print(\"Validation Set:\", mean_sqr_error_ridge_val)\n",
        "print(\"Test Set:\", mean_sqr_error_ridge_test)\n",
        "print(\"=======================\\n\\n\")\n",
        "\n",
        "print(\"\\nMean Absolute Error for Ridge Regression:\")\n",
        "print(\"Training Set:\", mean_abs_error_ridge_train)\n",
        "print(\"Validation Set:\", mean_abs_error_ridge_val)\n",
        "print(\"Test Set:\", mean_abs_error_ridge_test)"
      ],
      "metadata": {
        "colab": {
          "base_uri": "https://localhost:8080/",
          "height": 0
        },
        "id": "AxiKfAdyb2SD",
        "outputId": "fce91e57-1382-449d-ff5e-2da4a38b993f"
      },
      "execution_count": 54,
      "outputs": [
        {
          "output_type": "stream",
          "name": "stdout",
          "text": [
            "Mean Squared Error for Ridge Regression:\n",
            "Training Set: 379656937.9615383\n",
            "Validation Set: 352680386.8434775\n",
            "Test Set: 387540791.3369985\n",
            "=======================\n",
            "\n",
            "\n",
            "\n",
            "Mean Absolute Error for Ridge Regression:\n",
            "Training Set: 12825.686848511039\n",
            "Validation Set: 12390.617327034099\n",
            "Test Set: 12994.54211155426\n"
          ]
        }
      ]
    },
    {
      "cell_type": "markdown",
      "source": [
        "#Models Comparison"
      ],
      "metadata": {
        "id": "V7sVjsCgNgLs"
      }
    },
    {
      "cell_type": "code",
      "source": [
        "# Comparing Models:\n",
        "print(\"\\nComparing Models:\")\n",
        "print(\"------------------\")\n",
        "print(\"Linear Regression:\")\n",
        "print(f\"  - MSE (Test): {mean_sqr_error_lr_test:.4f}\")\n",
        "print(f\"  - MAE (Test): {mean_abs_error_lr_test:.4f}\")\n",
        "\n",
        "print(\"\\nLasso Regression:\")\n",
        "print(f\"  - MSE (Test): {mean_sqr_error_lasso_test:.4f}\")\n",
        "print(f\"  - MAE (Test): {mean_abs_error_lasso_test:.4f}\")\n",
        "\n",
        "print(\"\\nRidge Regression:\")\n",
        "print(f\"  - MSE (Test): {mean_sqr_error_ridge_test:.4f}\")\n",
        "print(f\"  - MAE (Test): {mean_abs_error_ridge_test:.4f}\")\n",
        "\n",
        "\n",
        "\n",
        "\n",
        "models_mse = {\n",
        "    \"Linear Regression\": mean_sqr_error_lr_test,\n",
        "    \"Lasso Regression\": mean_sqr_error_lasso_test,\n",
        "    \"Ridge Regression\": mean_sqr_error_ridge_test\n",
        "}\n",
        "\n",
        "models_mae = {\n",
        "    \"Linear Regression\": mean_abs_error_lr_test,\n",
        "    \"Lasso Regression\": mean_abs_error_lasso_test,\n",
        "    \"Ridge Regression\": mean_abs_error_ridge_test\n",
        "}\n",
        "\n",
        "min_mse_model = min(models_mse, key=models_mse.get)\n",
        "min_mae_model = min(models_mae, key=models_mae.get)\n",
        "\n",
        "print(f\"\\nThe model with the minimum MSE is: {min_mse_model}\")\n",
        "print(f\"The model with the minimum MAE is: {min_mae_model}\")\n"
      ],
      "metadata": {
        "colab": {
          "base_uri": "https://localhost:8080/",
          "height": 0
        },
        "id": "l6yYKpzGKkKK",
        "outputId": "a1dd5759-fa48-45f9-fe75-f3e03bd42ead"
      },
      "execution_count": 55,
      "outputs": [
        {
          "output_type": "stream",
          "name": "stdout",
          "text": [
            "\n",
            "Comparing Models:\n",
            "------------------\n",
            "Linear Regression:\n",
            "  - MSE (Test): 387541382.9218\n",
            "  - MAE (Test): 12994.4839\n",
            "\n",
            "Lasso Regression:\n",
            "  - MSE (Test): 387539799.9122\n",
            "  - MAE (Test): 12994.5187\n",
            "\n",
            "Ridge Regression:\n",
            "  - MSE (Test): 387540791.3370\n",
            "  - MAE (Test): 12994.5421\n",
            "\n",
            "The model with the minimum MSE is: Lasso Regression\n",
            "The model with the minimum MAE is: Linear Regression\n"
          ]
        }
      ]
    },
    {
      "cell_type": "markdown",
      "source": [
        "### Comments on Results\n",
        "\n",
        "1. **Error Calculation**: All models have similar Mean Squared Error (350M-390M) and Mean Absolute Error (12,000-13,000), showing that predictions differ significantly from actual house values. This level of error might be large, depending on the typical value of houses in the dataset.\n",
        "\n",
        "2. **Regularization Impact**: Lasso and Ridge didn’t improve much over Linear Regression, showing little overlap or extra features. All features seem useful, and overfitting doesn’t appear to be an issue.\n",
        "\n",
        "3. **Model Choice**: Since all models perform similarly, Linear Regression is the best choice due to its simplicity and interpretability. Regularization isn’t needed here.\n"
      ],
      "metadata": {
        "id": "ly2muubeeJFx"
      }
    }
  ]
}